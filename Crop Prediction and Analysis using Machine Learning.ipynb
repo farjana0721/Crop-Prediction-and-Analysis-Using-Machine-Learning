{
 "cells": [
  {
   "cell_type": "markdown",
   "id": "4aca2bed",
   "metadata": {},
   "source": [
    "## Data Analysis and Pre-processing"
   ]
  },
  {
   "cell_type": "code",
   "execution_count": 1,
   "id": "16666d37",
   "metadata": {},
   "outputs": [],
   "source": [
    "# importing libraries\n",
    "\n",
    "import pandas as pd\n",
    "import numpy as np\n",
    "import matplotlib.pyplot as plt\n",
    "import seaborn as sns\n",
    "\n",
    "from sklearn.metrics import classification_report\n",
    "from sklearn import metrics\n",
    "from sklearn import tree\n",
    "\n",
    "from __future__ import print_function\n",
    "import warnings\n",
    "warnings.filterwarnings('ignore')"
   ]
  },
  {
   "cell_type": "code",
   "execution_count": 2,
   "id": "e258eb6d",
   "metadata": {},
   "outputs": [],
   "source": [
    "# loading dataframe\n",
    "crop_df = pd.read_csv('Crop_recommendation.csv')"
   ]
  },
  {
   "cell_type": "code",
   "execution_count": 3,
   "id": "c14b830e",
   "metadata": {},
   "outputs": [
    {
     "data": {
      "text/html": [
       "<div>\n",
       "<style scoped>\n",
       "    .dataframe tbody tr th:only-of-type {\n",
       "        vertical-align: middle;\n",
       "    }\n",
       "\n",
       "    .dataframe tbody tr th {\n",
       "        vertical-align: top;\n",
       "    }\n",
       "\n",
       "    .dataframe thead th {\n",
       "        text-align: right;\n",
       "    }\n",
       "</style>\n",
       "<table border=\"1\" class=\"dataframe\">\n",
       "  <thead>\n",
       "    <tr style=\"text-align: right;\">\n",
       "      <th></th>\n",
       "      <th>N</th>\n",
       "      <th>P</th>\n",
       "      <th>K</th>\n",
       "      <th>temperature</th>\n",
       "      <th>humidity</th>\n",
       "      <th>ph</th>\n",
       "      <th>rainfall</th>\n",
       "      <th>label</th>\n",
       "    </tr>\n",
       "  </thead>\n",
       "  <tbody>\n",
       "    <tr>\n",
       "      <th>0</th>\n",
       "      <td>90</td>\n",
       "      <td>42</td>\n",
       "      <td>43</td>\n",
       "      <td>20.879744</td>\n",
       "      <td>82.002744</td>\n",
       "      <td>6.502985</td>\n",
       "      <td>202.935536</td>\n",
       "      <td>rice</td>\n",
       "    </tr>\n",
       "    <tr>\n",
       "      <th>1</th>\n",
       "      <td>85</td>\n",
       "      <td>58</td>\n",
       "      <td>41</td>\n",
       "      <td>21.770462</td>\n",
       "      <td>80.319644</td>\n",
       "      <td>7.038096</td>\n",
       "      <td>226.655537</td>\n",
       "      <td>rice</td>\n",
       "    </tr>\n",
       "    <tr>\n",
       "      <th>2</th>\n",
       "      <td>60</td>\n",
       "      <td>55</td>\n",
       "      <td>44</td>\n",
       "      <td>23.004459</td>\n",
       "      <td>82.320763</td>\n",
       "      <td>7.840207</td>\n",
       "      <td>263.964248</td>\n",
       "      <td>rice</td>\n",
       "    </tr>\n",
       "    <tr>\n",
       "      <th>3</th>\n",
       "      <td>74</td>\n",
       "      <td>35</td>\n",
       "      <td>40</td>\n",
       "      <td>26.491096</td>\n",
       "      <td>80.158363</td>\n",
       "      <td>6.980401</td>\n",
       "      <td>242.864034</td>\n",
       "      <td>rice</td>\n",
       "    </tr>\n",
       "    <tr>\n",
       "      <th>4</th>\n",
       "      <td>78</td>\n",
       "      <td>42</td>\n",
       "      <td>42</td>\n",
       "      <td>20.130175</td>\n",
       "      <td>81.604873</td>\n",
       "      <td>7.628473</td>\n",
       "      <td>262.717340</td>\n",
       "      <td>rice</td>\n",
       "    </tr>\n",
       "  </tbody>\n",
       "</table>\n",
       "</div>"
      ],
      "text/plain": [
       "    N   P   K  temperature   humidity        ph    rainfall label\n",
       "0  90  42  43    20.879744  82.002744  6.502985  202.935536  rice\n",
       "1  85  58  41    21.770462  80.319644  7.038096  226.655537  rice\n",
       "2  60  55  44    23.004459  82.320763  7.840207  263.964248  rice\n",
       "3  74  35  40    26.491096  80.158363  6.980401  242.864034  rice\n",
       "4  78  42  42    20.130175  81.604873  7.628473  262.717340  rice"
      ]
     },
     "execution_count": 3,
     "metadata": {},
     "output_type": "execute_result"
    }
   ],
   "source": [
    "crop_df.head()"
   ]
  },
  {
   "cell_type": "code",
   "execution_count": 4,
   "id": "fad82f2a",
   "metadata": {},
   "outputs": [
    {
     "data": {
      "text/html": [
       "<div>\n",
       "<style scoped>\n",
       "    .dataframe tbody tr th:only-of-type {\n",
       "        vertical-align: middle;\n",
       "    }\n",
       "\n",
       "    .dataframe tbody tr th {\n",
       "        vertical-align: top;\n",
       "    }\n",
       "\n",
       "    .dataframe thead th {\n",
       "        text-align: right;\n",
       "    }\n",
       "</style>\n",
       "<table border=\"1\" class=\"dataframe\">\n",
       "  <thead>\n",
       "    <tr style=\"text-align: right;\">\n",
       "      <th></th>\n",
       "      <th>N</th>\n",
       "      <th>P</th>\n",
       "      <th>K</th>\n",
       "      <th>temperature</th>\n",
       "      <th>humidity</th>\n",
       "      <th>ph</th>\n",
       "      <th>rainfall</th>\n",
       "      <th>label</th>\n",
       "    </tr>\n",
       "  </thead>\n",
       "  <tbody>\n",
       "    <tr>\n",
       "      <th>2195</th>\n",
       "      <td>107</td>\n",
       "      <td>34</td>\n",
       "      <td>32</td>\n",
       "      <td>26.774637</td>\n",
       "      <td>66.413269</td>\n",
       "      <td>6.780064</td>\n",
       "      <td>177.774507</td>\n",
       "      <td>coffee</td>\n",
       "    </tr>\n",
       "    <tr>\n",
       "      <th>2196</th>\n",
       "      <td>99</td>\n",
       "      <td>15</td>\n",
       "      <td>27</td>\n",
       "      <td>27.417112</td>\n",
       "      <td>56.636362</td>\n",
       "      <td>6.086922</td>\n",
       "      <td>127.924610</td>\n",
       "      <td>coffee</td>\n",
       "    </tr>\n",
       "    <tr>\n",
       "      <th>2197</th>\n",
       "      <td>118</td>\n",
       "      <td>33</td>\n",
       "      <td>30</td>\n",
       "      <td>24.131797</td>\n",
       "      <td>67.225123</td>\n",
       "      <td>6.362608</td>\n",
       "      <td>173.322839</td>\n",
       "      <td>coffee</td>\n",
       "    </tr>\n",
       "    <tr>\n",
       "      <th>2198</th>\n",
       "      <td>117</td>\n",
       "      <td>32</td>\n",
       "      <td>34</td>\n",
       "      <td>26.272418</td>\n",
       "      <td>52.127394</td>\n",
       "      <td>6.758793</td>\n",
       "      <td>127.175293</td>\n",
       "      <td>coffee</td>\n",
       "    </tr>\n",
       "    <tr>\n",
       "      <th>2199</th>\n",
       "      <td>104</td>\n",
       "      <td>18</td>\n",
       "      <td>30</td>\n",
       "      <td>23.603016</td>\n",
       "      <td>60.396475</td>\n",
       "      <td>6.779833</td>\n",
       "      <td>140.937041</td>\n",
       "      <td>coffee</td>\n",
       "    </tr>\n",
       "  </tbody>\n",
       "</table>\n",
       "</div>"
      ],
      "text/plain": [
       "        N   P   K  temperature   humidity        ph    rainfall   label\n",
       "2195  107  34  32    26.774637  66.413269  6.780064  177.774507  coffee\n",
       "2196   99  15  27    27.417112  56.636362  6.086922  127.924610  coffee\n",
       "2197  118  33  30    24.131797  67.225123  6.362608  173.322839  coffee\n",
       "2198  117  32  34    26.272418  52.127394  6.758793  127.175293  coffee\n",
       "2199  104  18  30    23.603016  60.396475  6.779833  140.937041  coffee"
      ]
     },
     "execution_count": 4,
     "metadata": {},
     "output_type": "execute_result"
    }
   ],
   "source": [
    "crop_df.tail()"
   ]
  },
  {
   "cell_type": "code",
   "execution_count": 5,
   "id": "f92a0444",
   "metadata": {},
   "outputs": [
    {
     "data": {
      "text/plain": [
       "(2200, 8)"
      ]
     },
     "execution_count": 5,
     "metadata": {},
     "output_type": "execute_result"
    }
   ],
   "source": [
    "crop_df.shape"
   ]
  },
  {
   "cell_type": "code",
   "execution_count": 6,
   "id": "346a3718",
   "metadata": {},
   "outputs": [
    {
     "data": {
      "text/plain": [
       "17600"
      ]
     },
     "execution_count": 6,
     "metadata": {},
     "output_type": "execute_result"
    }
   ],
   "source": [
    "crop_df.size"
   ]
  },
  {
   "cell_type": "code",
   "execution_count": 7,
   "id": "b9efd5dd",
   "metadata": {},
   "outputs": [
    {
     "data": {
      "text/html": [
       "<div>\n",
       "<style scoped>\n",
       "    .dataframe tbody tr th:only-of-type {\n",
       "        vertical-align: middle;\n",
       "    }\n",
       "\n",
       "    .dataframe tbody tr th {\n",
       "        vertical-align: top;\n",
       "    }\n",
       "\n",
       "    .dataframe thead th {\n",
       "        text-align: right;\n",
       "    }\n",
       "</style>\n",
       "<table border=\"1\" class=\"dataframe\">\n",
       "  <thead>\n",
       "    <tr style=\"text-align: right;\">\n",
       "      <th></th>\n",
       "      <th>N</th>\n",
       "      <th>P</th>\n",
       "      <th>K</th>\n",
       "      <th>temperature</th>\n",
       "      <th>humidity</th>\n",
       "      <th>ph</th>\n",
       "      <th>rainfall</th>\n",
       "    </tr>\n",
       "  </thead>\n",
       "  <tbody>\n",
       "    <tr>\n",
       "      <th>count</th>\n",
       "      <td>2200.000000</td>\n",
       "      <td>2200.000000</td>\n",
       "      <td>2200.000000</td>\n",
       "      <td>2200.000000</td>\n",
       "      <td>2200.000000</td>\n",
       "      <td>2200.000000</td>\n",
       "      <td>2200.000000</td>\n",
       "    </tr>\n",
       "    <tr>\n",
       "      <th>mean</th>\n",
       "      <td>50.551818</td>\n",
       "      <td>53.362727</td>\n",
       "      <td>48.149091</td>\n",
       "      <td>25.616244</td>\n",
       "      <td>71.481779</td>\n",
       "      <td>6.469480</td>\n",
       "      <td>103.463655</td>\n",
       "    </tr>\n",
       "    <tr>\n",
       "      <th>std</th>\n",
       "      <td>36.917334</td>\n",
       "      <td>32.985883</td>\n",
       "      <td>50.647931</td>\n",
       "      <td>5.063749</td>\n",
       "      <td>22.263812</td>\n",
       "      <td>0.773938</td>\n",
       "      <td>54.958389</td>\n",
       "    </tr>\n",
       "    <tr>\n",
       "      <th>min</th>\n",
       "      <td>0.000000</td>\n",
       "      <td>5.000000</td>\n",
       "      <td>5.000000</td>\n",
       "      <td>8.825675</td>\n",
       "      <td>14.258040</td>\n",
       "      <td>3.504752</td>\n",
       "      <td>20.211267</td>\n",
       "    </tr>\n",
       "    <tr>\n",
       "      <th>25%</th>\n",
       "      <td>21.000000</td>\n",
       "      <td>28.000000</td>\n",
       "      <td>20.000000</td>\n",
       "      <td>22.769375</td>\n",
       "      <td>60.261953</td>\n",
       "      <td>5.971693</td>\n",
       "      <td>64.551686</td>\n",
       "    </tr>\n",
       "    <tr>\n",
       "      <th>50%</th>\n",
       "      <td>37.000000</td>\n",
       "      <td>51.000000</td>\n",
       "      <td>32.000000</td>\n",
       "      <td>25.598693</td>\n",
       "      <td>80.473146</td>\n",
       "      <td>6.425045</td>\n",
       "      <td>94.867624</td>\n",
       "    </tr>\n",
       "    <tr>\n",
       "      <th>75%</th>\n",
       "      <td>84.250000</td>\n",
       "      <td>68.000000</td>\n",
       "      <td>49.000000</td>\n",
       "      <td>28.561654</td>\n",
       "      <td>89.948771</td>\n",
       "      <td>6.923643</td>\n",
       "      <td>124.267508</td>\n",
       "    </tr>\n",
       "    <tr>\n",
       "      <th>max</th>\n",
       "      <td>140.000000</td>\n",
       "      <td>145.000000</td>\n",
       "      <td>205.000000</td>\n",
       "      <td>43.675493</td>\n",
       "      <td>99.981876</td>\n",
       "      <td>9.935091</td>\n",
       "      <td>298.560117</td>\n",
       "    </tr>\n",
       "  </tbody>\n",
       "</table>\n",
       "</div>"
      ],
      "text/plain": [
       "                 N            P            K  temperature     humidity  \\\n",
       "count  2200.000000  2200.000000  2200.000000  2200.000000  2200.000000   \n",
       "mean     50.551818    53.362727    48.149091    25.616244    71.481779   \n",
       "std      36.917334    32.985883    50.647931     5.063749    22.263812   \n",
       "min       0.000000     5.000000     5.000000     8.825675    14.258040   \n",
       "25%      21.000000    28.000000    20.000000    22.769375    60.261953   \n",
       "50%      37.000000    51.000000    32.000000    25.598693    80.473146   \n",
       "75%      84.250000    68.000000    49.000000    28.561654    89.948771   \n",
       "max     140.000000   145.000000   205.000000    43.675493    99.981876   \n",
       "\n",
       "                ph     rainfall  \n",
       "count  2200.000000  2200.000000  \n",
       "mean      6.469480   103.463655  \n",
       "std       0.773938    54.958389  \n",
       "min       3.504752    20.211267  \n",
       "25%       5.971693    64.551686  \n",
       "50%       6.425045    94.867624  \n",
       "75%       6.923643   124.267508  \n",
       "max       9.935091   298.560117  "
      ]
     },
     "execution_count": 7,
     "metadata": {},
     "output_type": "execute_result"
    }
   ],
   "source": [
    "crop_df.describe()"
   ]
  },
  {
   "cell_type": "code",
   "execution_count": 8,
   "id": "40b84d02",
   "metadata": {},
   "outputs": [
    {
     "data": {
      "text/plain": [
       "N              0\n",
       "P              0\n",
       "K              0\n",
       "temperature    0\n",
       "humidity       0\n",
       "ph             0\n",
       "rainfall       0\n",
       "label          0\n",
       "dtype: int64"
      ]
     },
     "execution_count": 8,
     "metadata": {},
     "output_type": "execute_result"
    }
   ],
   "source": [
    "# checking for null values\n",
    "crop_df.isnull().sum()"
   ]
  },
  {
   "cell_type": "code",
   "execution_count": 9,
   "id": "6c149d1f",
   "metadata": {},
   "outputs": [
    {
     "data": {
      "text/plain": [
       "False"
      ]
     },
     "execution_count": 9,
     "metadata": {},
     "output_type": "execute_result"
    }
   ],
   "source": [
    "# checking for null values\n",
    "crop_df.isnull().values.any()"
   ]
  },
  {
   "cell_type": "code",
   "execution_count": 10,
   "id": "8b554904",
   "metadata": {},
   "outputs": [
    {
     "data": {
      "text/plain": [
       "array(['rice', 'maize', 'chickpea', 'kidneybeans', 'pigeonpeas',\n",
       "       'mothbeans', 'mungbean', 'blackgram', 'lentil', 'pomegranate',\n",
       "       'banana', 'mango', 'grapes', 'watermelon', 'muskmelon', 'apple',\n",
       "       'orange', 'papaya', 'coconut', 'cotton', 'jute', 'coffee'],\n",
       "      dtype=object)"
      ]
     },
     "execution_count": 10,
     "metadata": {},
     "output_type": "execute_result"
    }
   ],
   "source": [
    "crop_df['label'].unique()"
   ]
  },
  {
   "cell_type": "code",
   "execution_count": 11,
   "id": "9c5116ed",
   "metadata": {},
   "outputs": [
    {
     "data": {
      "text/plain": [
       "Index(['N', 'P', 'K', 'temperature', 'humidity', 'ph', 'rainfall', 'label'], dtype='object')"
      ]
     },
     "execution_count": 11,
     "metadata": {},
     "output_type": "execute_result"
    }
   ],
   "source": [
    "crop_df.columns"
   ]
  },
  {
   "cell_type": "code",
   "execution_count": 12,
   "id": "1d334d65",
   "metadata": {},
   "outputs": [
    {
     "data": {
      "text/plain": [
       "array(['rice', 'maize', 'chickpea', 'kidneybeans', 'pigeonpeas',\n",
       "       'mothbeans', 'mungbean', 'blackgram', 'lentil', 'pomegranate',\n",
       "       'banana', 'mango', 'grapes', 'watermelon', 'muskmelon', 'apple',\n",
       "       'orange', 'papaya', 'coconut', 'cotton', 'jute', 'coffee'],\n",
       "      dtype=object)"
      ]
     },
     "execution_count": 12,
     "metadata": {},
     "output_type": "execute_result"
    }
   ],
   "source": [
    "crop_df['label'].unique()"
   ]
  },
  {
   "cell_type": "code",
   "execution_count": 13,
   "id": "a603fb0a",
   "metadata": {},
   "outputs": [
    {
     "data": {
      "text/plain": [
       "rice           100\n",
       "maize          100\n",
       "jute           100\n",
       "cotton         100\n",
       "coconut        100\n",
       "papaya         100\n",
       "orange         100\n",
       "apple          100\n",
       "muskmelon      100\n",
       "watermelon     100\n",
       "grapes         100\n",
       "mango          100\n",
       "banana         100\n",
       "pomegranate    100\n",
       "lentil         100\n",
       "blackgram      100\n",
       "mungbean       100\n",
       "mothbeans      100\n",
       "pigeonpeas     100\n",
       "kidneybeans    100\n",
       "chickpea       100\n",
       "coffee         100\n",
       "Name: label, dtype: int64"
      ]
     },
     "execution_count": 13,
     "metadata": {},
     "output_type": "execute_result"
    }
   ],
   "source": [
    "crop_df['label'].value_counts()"
   ]
  },
  {
   "cell_type": "code",
   "execution_count": 14,
   "id": "4b692885",
   "metadata": {},
   "outputs": [
    {
     "data": {
      "text/plain": [
       "N                int64\n",
       "P                int64\n",
       "K                int64\n",
       "temperature    float64\n",
       "humidity       float64\n",
       "ph             float64\n",
       "rainfall       float64\n",
       "label           object\n",
       "dtype: object"
      ]
     },
     "execution_count": 14,
     "metadata": {},
     "output_type": "execute_result"
    }
   ],
   "source": [
    "crop_df.dtypes"
   ]
  },
  {
   "cell_type": "code",
   "execution_count": 15,
   "id": "b6dff952",
   "metadata": {},
   "outputs": [
    {
     "data": {
      "text/plain": [
       "<AxesSubplot:>"
      ]
     },
     "execution_count": 15,
     "metadata": {},
     "output_type": "execute_result"
    },
    {
     "data": {
      "image/png": "[encoded data removed]",
      "text/plain": [
       "<Figure size 432x288 with 2 Axes>"
      ]
     },
     "metadata": {
      "needs_background": "light"
     },
     "output_type": "display_data"
    }
   ],
   "source": [
    "sns.heatmap(crop_df.corr(),annot=True)"
   ]
  },
  {
   "cell_type": "markdown",
   "id": "8dc421be",
   "metadata": {},
   "source": [
    "## Separating Features and Target Label"
   ]
  },
  {
   "cell_type": "code",
   "execution_count": 16,
   "id": "ecb8b33a",
   "metadata": {},
   "outputs": [],
   "source": [
    "crop_feature = crop_df[['N', 'P','K','temperature', 'humidity', 'ph', 'rainfall']]\n",
    "crop_target = crop_df['label']"
   ]
  },
  {
   "cell_type": "code",
   "execution_count": 17,
   "id": "2f8c5198",
   "metadata": {},
   "outputs": [],
   "source": [
    "# splitting dataframe into train and test data\n",
    "\n",
    "from sklearn.model_selection import train_test_split\n",
    "x_train, x_test, y_train, y_test = train_test_split(crop_feature,crop_target,test_size = 0.25, random_state = 11)\n",
    "\n",
    "# accuracy\n",
    "acc = []\n",
    "# model name\n",
    "model = []"
   ]
  },
  {
   "cell_type": "markdown",
   "id": "fb94aed7",
   "metadata": {},
   "source": [
    "## Decision Tree"
   ]
  },
  {
   "cell_type": "code",
   "execution_count": 18,
   "id": "96a92f51",
   "metadata": {},
   "outputs": [
    {
     "name": "stdout",
     "output_type": "stream",
     "text": [
      "DecisionTrees's Accuracy is:  0.9272727272727272\n",
      "              precision    recall  f1-score   support\n",
      "\n",
      "       apple       1.00      1.00      1.00        23\n",
      "      banana       0.94      1.00      0.97        29\n",
      "   blackgram       0.69      1.00      0.81        24\n",
      "    chickpea       1.00      1.00      1.00        32\n",
      "     coconut       1.00      0.95      0.98        21\n",
      "      coffee       1.00      0.80      0.89        30\n",
      "      cotton       1.00      1.00      1.00        23\n",
      "      grapes       1.00      1.00      1.00        27\n",
      "        jute       0.56      1.00      0.71        15\n",
      " kidneybeans       1.00      0.83      0.91        24\n",
      "      lentil       0.88      0.95      0.91        22\n",
      "       maize       0.70      0.89      0.78        18\n",
      "       mango       0.97      0.94      0.95        31\n",
      "   mothbeans       0.94      0.58      0.71        26\n",
      "    mungbean       1.00      1.00      1.00        28\n",
      "   muskmelon       1.00      1.00      1.00        27\n",
      "      orange       0.97      1.00      0.98        28\n",
      "      papaya       1.00      0.90      0.95        20\n",
      "  pigeonpeas       0.92      1.00      0.96        24\n",
      " pomegranate       1.00      0.96      0.98        26\n",
      "        rice       1.00      0.64      0.78        28\n",
      "  watermelon       1.00      1.00      1.00        24\n",
      "\n",
      "    accuracy                           0.93       550\n",
      "   macro avg       0.93      0.93      0.92       550\n",
      "weighted avg       0.95      0.93      0.93       550\n",
      "\n"
     ]
    }
   ],
   "source": [
    "from sklearn.tree import DecisionTreeClassifier\n",
    "\n",
    "DecisionTree = DecisionTreeClassifier(criterion = \"entropy\",random_state = 11,max_depth = 5)\n",
    "\n",
    "DecisionTree.fit(x_train,y_train)\n",
    "\n",
    "pred = DecisionTree.predict(x_test)\n",
    "x = metrics.accuracy_score(y_test, pred)\n",
    "acc.append(x)                         \n",
    "model.append('Decision Tree')         \n",
    "print(\"DecisionTrees's Accuracy is: \", x)\n",
    "\n",
    "print(classification_report(y_test,pred))"
   ]
  },
  {
   "cell_type": "code",
   "execution_count": 19,
   "id": "b7accea6",
   "metadata": {},
   "outputs": [
    {
     "data": {
      "text/plain": [
       "array([0.93636364, 0.90909091, 0.91818182, 0.87272727, 0.93636364])"
      ]
     },
     "execution_count": 19,
     "metadata": {},
     "output_type": "execute_result"
    }
   ],
   "source": [
    "from sklearn.model_selection import cross_val_score\n",
    "\n",
    "# Cross validation score (Decision Tree)\n",
    "val_score = cross_val_score(DecisionTree, crop_feature, crop_target, cv=5)\n",
    "val_score"
   ]
  },
  {
   "cell_type": "code",
   "execution_count": 20,
   "id": "72ecb373",
   "metadata": {},
   "outputs": [],
   "source": [
    "# saving the model\n",
    "import pickle \n",
    "\n",
    "DT_model = open('./DecisionTree.pkl', 'wb')\n",
    "pickle.dump(DecisionTree, DT_model)\n",
    "DT_model.close()"
   ]
  },
  {
   "cell_type": "markdown",
   "id": "05ca1d91",
   "metadata": {},
   "source": [
    "## Logistic Regression "
   ]
  },
  {
   "cell_type": "code",
   "execution_count": 21,
   "id": "041a813d",
   "metadata": {},
   "outputs": [
    {
     "name": "stdout",
     "output_type": "stream",
     "text": [
      "Logistic Regression's Accuracy is:  0.9472727272727273\n",
      "              precision    recall  f1-score   support\n",
      "\n",
      "       apple       1.00      1.00      1.00        23\n",
      "      banana       1.00      1.00      1.00        29\n",
      "   blackgram       0.92      0.92      0.92        24\n",
      "    chickpea       1.00      1.00      1.00        32\n",
      "     coconut       1.00      1.00      1.00        21\n",
      "      coffee       1.00      1.00      1.00        30\n",
      "      cotton       0.90      0.83      0.86        23\n",
      "      grapes       1.00      1.00      1.00        27\n",
      "        jute       0.58      0.93      0.72        15\n",
      " kidneybeans       0.96      1.00      0.98        24\n",
      "      lentil       0.85      1.00      0.92        22\n",
      "       maize       0.80      0.89      0.84        18\n",
      "       mango       0.97      1.00      0.98        31\n",
      "   mothbeans       0.95      0.77      0.85        26\n",
      "    mungbean       0.93      0.96      0.95        28\n",
      "   muskmelon       1.00      1.00      1.00        27\n",
      "      orange       1.00      1.00      1.00        28\n",
      "      papaya       0.95      0.90      0.92        20\n",
      "  pigeonpeas       1.00      0.96      0.98        24\n",
      " pomegranate       1.00      1.00      1.00        26\n",
      "        rice       0.95      0.64      0.77        28\n",
      "  watermelon       1.00      1.00      1.00        24\n",
      "\n",
      "    accuracy                           0.95       550\n",
      "   macro avg       0.94      0.95      0.94       550\n",
      "weighted avg       0.95      0.95      0.95       550\n",
      "\n"
     ]
    }
   ],
   "source": [
    "from sklearn.linear_model import LogisticRegression\n",
    "\n",
    "LogisticRegression = LogisticRegression(random_state=11)\n",
    "\n",
    "\n",
    "\n",
    "LogisticRegression.fit(x_train,y_train)\n",
    "\n",
    "pred = LogisticRegression.predict(x_test)\n",
    "\n",
    "x = metrics.accuracy_score(y_test, pred)\n",
    "acc.append(x)\n",
    "model.append('Logistic Regression')\n",
    "print(\"Logistic Regression's Accuracy is: \", x)\n",
    "\n",
    "print(classification_report(y_test,pred))"
   ]
  },
  {
   "cell_type": "code",
   "execution_count": 22,
   "id": "00a72f47",
   "metadata": {},
   "outputs": [
    {
     "data": {
      "text/plain": [
       "array([0.95      , 0.96590909, 0.94772727, 0.96590909, 0.94318182])"
      ]
     },
     "execution_count": 22,
     "metadata": {},
     "output_type": "execute_result"
    }
   ],
   "source": [
    "from sklearn.model_selection import cross_val_score\n",
    "\n",
    "# Cross validation score (Decision Tree)\n",
    "val_score = cross_val_score(LogisticRegression, crop_feature, crop_target, cv=5)\n",
    "val_score"
   ]
  },
  {
   "cell_type": "code",
   "execution_count": 23,
   "id": "128b0730",
   "metadata": {},
   "outputs": [],
   "source": [
    "# saving the model\n",
    "import pickle \n",
    "\n",
    "LR_model = open('./LogisticRegression.pkl', 'wb')\n",
    "pickle.dump(LogisticRegression, LR_model)\n",
    "LR_model.close()"
   ]
  },
  {
   "cell_type": "markdown",
   "id": "db4c9a94",
   "metadata": {},
   "source": [
    "##  Random Forest Classifier"
   ]
  },
  {
   "cell_type": "code",
   "execution_count": 24,
   "id": "74ff4759",
   "metadata": {},
   "outputs": [
    {
     "data": {
      "image/png": "[encoded data removed]",
      "text/plain": [
       "<Figure size 864x432 with 1 Axes>"
      ]
     },
     "metadata": {
      "needs_background": "light"
     },
     "output_type": "display_data"
    },
    {
     "data": {
      "text/plain": [
       "[0.9109090909090909,\n",
       " 0.9454545454545454,\n",
       " 0.9854545454545455,\n",
       " 0.9872727272727273,\n",
       " 0.9854545454545455,\n",
       " 0.9872727272727273,\n",
       " 0.9872727272727273,\n",
       " 0.9872727272727273]"
      ]
     },
     "execution_count": 24,
     "metadata": {},
     "output_type": "execute_result"
    }
   ],
   "source": [
    "from sklearn.ensemble import RandomForestClassifier\n",
    "\n",
    "accuracy = []\n",
    "n_estimators = [1, 2, 4, 8, 16, 32, 64, 128]\n",
    "for i in n_estimators:\n",
    "    RandomForest = RandomForestClassifier(n_estimators=i, random_state=11)\n",
    "    RandomForest.fit(x_train,y_train)\n",
    "    predicted_values = RandomForest.predict(x_test)\n",
    "\n",
    "    x = metrics.accuracy_score(y_test, predicted_values)\n",
    "    accuracy.append(x) \n",
    "\n",
    "plt.figure(figsize=(12,6))\n",
    "plt.plot(n_estimators, accuracy, 'b', label='Accuracy', color = 'limegreen')\n",
    "plt.ylabel('Accuracy score', size = 14)\n",
    "plt.xlabel('n_estimators', size = 14)\n",
    "\n",
    "plt.show()\n",
    "\n",
    "accuracy"
   ]
  },
  {
   "cell_type": "code",
   "execution_count": 25,
   "id": "172455c5",
   "metadata": {},
   "outputs": [
    {
     "name": "stdout",
     "output_type": "stream",
     "text": [
      "Random Forest Classifier's Accuracy is:  0.9872727272727273\n",
      "              precision    recall  f1-score   support\n",
      "\n",
      "       apple       1.00      1.00      1.00        23\n",
      "      banana       1.00      1.00      1.00        29\n",
      "   blackgram       1.00      1.00      1.00        24\n",
      "    chickpea       1.00      1.00      1.00        32\n",
      "     coconut       1.00      1.00      1.00        21\n",
      "      coffee       1.00      1.00      1.00        30\n",
      "      cotton       1.00      1.00      1.00        23\n",
      "      grapes       1.00      1.00      1.00        27\n",
      "        jute       0.68      1.00      0.81        15\n",
      " kidneybeans       1.00      1.00      1.00        24\n",
      "      lentil       1.00      1.00      1.00        22\n",
      "       maize       1.00      1.00      1.00        18\n",
      "       mango       1.00      1.00      1.00        31\n",
      "   mothbeans       1.00      1.00      1.00        26\n",
      "    mungbean       1.00      1.00      1.00        28\n",
      "   muskmelon       1.00      1.00      1.00        27\n",
      "      orange       1.00      1.00      1.00        28\n",
      "      papaya       1.00      1.00      1.00        20\n",
      "  pigeonpeas       1.00      1.00      1.00        24\n",
      " pomegranate       1.00      1.00      1.00        26\n",
      "        rice       1.00      0.75      0.86        28\n",
      "  watermelon       1.00      1.00      1.00        24\n",
      "\n",
      "    accuracy                           0.99       550\n",
      "   macro avg       0.99      0.99      0.98       550\n",
      "weighted avg       0.99      0.99      0.99       550\n",
      "\n"
     ]
    }
   ],
   "source": [
    "from sklearn.ensemble import RandomForestClassifier\n",
    "\n",
    "RandomForest = RandomForestClassifier(n_estimators=8, random_state=11)\n",
    "RandomForest.fit(x_train,y_train)\n",
    "\n",
    "pred = RandomForest.predict(x_test)\n",
    "\n",
    "x = metrics.accuracy_score(y_test, pred)\n",
    "acc.append(x)\n",
    "model.append('Random Forest Classifier')\n",
    "print(\"Random Forest Classifier's Accuracy is: \", x)\n",
    "\n",
    "print(classification_report(y_test,pred))"
   ]
  },
  {
   "cell_type": "code",
   "execution_count": 26,
   "id": "c37fc1e2",
   "metadata": {},
   "outputs": [
    {
     "data": {
      "text/plain": [
       "array([0.99318182, 0.99545455, 0.99090909, 0.99318182, 0.99318182])"
      ]
     },
     "execution_count": 26,
     "metadata": {},
     "output_type": "execute_result"
    }
   ],
   "source": [
    "from sklearn.model_selection import cross_val_score\n",
    "\n",
    "# Cross validation score (Decision Tree)\n",
    "val_score = cross_val_score(RandomForest, crop_feature, crop_target, cv=5)\n",
    "val_score"
   ]
  },
  {
   "cell_type": "code",
   "execution_count": 27,
   "id": "1ef6edc5",
   "metadata": {},
   "outputs": [],
   "source": [
    "# saving the model\n",
    "import pickle \n",
    "\n",
    "RFC_model = open('./RandomForestClassifier.pkl', 'wb')\n",
    "pickle.dump(RandomForest, RFC_model)\n",
    "RFC_model.close()"
   ]
  },
  {
   "cell_type": "markdown",
   "id": "55bf699b",
   "metadata": {},
   "source": [
    "## Support Vector Machine "
   ]
  },
  {
   "cell_type": "code",
   "execution_count": 28,
   "id": "245dc5f0",
   "metadata": {},
   "outputs": [
    {
     "name": "stdout",
     "output_type": "stream",
     "text": [
      "Support Vector Machine's Accuracy is:  0.9745454545454545\n",
      "              precision    recall  f1-score   support\n",
      "\n",
      "       apple       1.00      1.00      1.00        23\n",
      "      banana       1.00      1.00      1.00        29\n",
      "   blackgram       1.00      0.96      0.98        24\n",
      "    chickpea       1.00      1.00      1.00        32\n",
      "     coconut       1.00      1.00      1.00        21\n",
      "      coffee       1.00      0.97      0.98        30\n",
      "      cotton       0.96      1.00      0.98        23\n",
      "      grapes       1.00      1.00      1.00        27\n",
      "        jute       0.60      1.00      0.75        15\n",
      " kidneybeans       1.00      1.00      1.00        24\n",
      "      lentil       0.88      1.00      0.94        22\n",
      "       maize       1.00      0.94      0.97        18\n",
      "       mango       1.00      1.00      1.00        31\n",
      "   mothbeans       1.00      0.92      0.96        26\n",
      "    mungbean       1.00      1.00      1.00        28\n",
      "   muskmelon       1.00      1.00      1.00        27\n",
      "      orange       1.00      1.00      1.00        28\n",
      "      papaya       1.00      1.00      1.00        20\n",
      "  pigeonpeas       1.00      1.00      1.00        24\n",
      " pomegranate       1.00      1.00      1.00        26\n",
      "        rice       1.00      0.68      0.81        28\n",
      "  watermelon       1.00      1.00      1.00        24\n",
      "\n",
      "    accuracy                           0.97       550\n",
      "   macro avg       0.97      0.98      0.97       550\n",
      "weighted avg       0.98      0.97      0.98       550\n",
      "\n"
     ]
    }
   ],
   "source": [
    "from sklearn.svm import SVC\n",
    "from sklearn.preprocessing import MinMaxScaler\n",
    "\n",
    "# normalizing data using sklearn\n",
    "# fitting scaler on training data\n",
    "norm_data = MinMaxScaler().fit(x_train)\n",
    "x_train_norm = norm_data.transform(x_train)\n",
    "\n",
    "# transforming testing data\n",
    "x_test_norm = norm_data.transform(x_test)\n",
    "\n",
    "SupportVectorMachine = SVC(kernel='poly', degree=3, C=1)\n",
    "SupportVectorMachine.fit(x_train_norm,y_train)\n",
    "pred = SupportVectorMachine.predict(x_test_norm)\n",
    "x = metrics.accuracy_score(y_test, pred)\n",
    "acc.append(x)\n",
    "model.append('Support Vector Machine')\n",
    "print(\"Support Vector Machine's Accuracy is: \", x)\n",
    "\n",
    "print(classification_report(y_test,pred))"
   ]
  },
  {
   "cell_type": "code",
   "execution_count": 29,
   "id": "c94cd8af",
   "metadata": {},
   "outputs": [
    {
     "data": {
      "text/plain": [
       "array([0.97954545, 0.975     , 0.98863636, 0.98863636, 0.98181818])"
      ]
     },
     "execution_count": 29,
     "metadata": {},
     "output_type": "execute_result"
    }
   ],
   "source": [
    "from sklearn.model_selection import cross_val_score\n",
    "\n",
    "# Cross validation score (Decision Tree)\n",
    "val_score = cross_val_score(SupportVectorMachine, crop_feature, crop_target, cv=5)\n",
    "val_score"
   ]
  },
  {
   "cell_type": "code",
   "execution_count": 30,
   "id": "94b4f18e",
   "metadata": {},
   "outputs": [],
   "source": [
    "# saving the model\n",
    "import pickle \n",
    "\n",
    "SVM_model = open('./SupportVectorMachine.pkl', 'wb')\n",
    "pickle.dump(SupportVectorMachine, SVM_model)\n",
    "SVM_model.close()"
   ]
  },
  {
   "cell_type": "markdown",
   "id": "117f75a6",
   "metadata": {},
   "source": [
    "##  Guassian Naive Bayes"
   ]
  },
  {
   "cell_type": "code",
   "execution_count": 31,
   "id": "8ff86fbd",
   "metadata": {},
   "outputs": [
    {
     "name": "stdout",
     "output_type": "stream",
     "text": [
      "Guassian Naive Bayes's Accuracy is:  0.9854545454545455\n",
      "              precision    recall  f1-score   support\n",
      "\n",
      "       apple       1.00      1.00      1.00        23\n",
      "      banana       1.00      1.00      1.00        29\n",
      "   blackgram       1.00      1.00      1.00        24\n",
      "    chickpea       1.00      1.00      1.00        32\n",
      "     coconut       1.00      1.00      1.00        21\n",
      "      coffee       1.00      1.00      1.00        30\n",
      "      cotton       1.00      1.00      1.00        23\n",
      "      grapes       1.00      1.00      1.00        27\n",
      "        jute       0.65      1.00      0.79        15\n",
      " kidneybeans       1.00      1.00      1.00        24\n",
      "      lentil       1.00      1.00      1.00        22\n",
      "       maize       1.00      1.00      1.00        18\n",
      "       mango       1.00      1.00      1.00        31\n",
      "   mothbeans       1.00      1.00      1.00        26\n",
      "    mungbean       1.00      1.00      1.00        28\n",
      "   muskmelon       1.00      1.00      1.00        27\n",
      "      orange       1.00      1.00      1.00        28\n",
      "      papaya       1.00      1.00      1.00        20\n",
      "  pigeonpeas       1.00      1.00      1.00        24\n",
      " pomegranate       1.00      1.00      1.00        26\n",
      "        rice       1.00      0.71      0.83        28\n",
      "  watermelon       1.00      1.00      1.00        24\n",
      "\n",
      "    accuracy                           0.99       550\n",
      "   macro avg       0.98      0.99      0.98       550\n",
      "weighted avg       0.99      0.99      0.99       550\n",
      "\n"
     ]
    }
   ],
   "source": [
    "from sklearn.naive_bayes import GaussianNB\n",
    "\n",
    "GuassianNaiveBayes = GaussianNB()\n",
    "\n",
    "GuassianNaiveBayes.fit(x_train,y_train)\n",
    "\n",
    "pred = GuassianNaiveBayes.predict(x_test)\n",
    "x = metrics.accuracy_score(y_test, pred)\n",
    "acc.append(x)\n",
    "model.append('Guassian Naive Bayes')\n",
    "print(\"Guassian Naive Bayes's Accuracy is: \", x)\n",
    "\n",
    "print(classification_report(y_test,pred))"
   ]
  },
  {
   "cell_type": "code",
   "execution_count": 32,
   "id": "35528cb1",
   "metadata": {},
   "outputs": [
    {
     "data": {
      "text/plain": [
       "array([0.99772727, 0.99545455, 0.99545455, 0.99545455, 0.99090909])"
      ]
     },
     "execution_count": 32,
     "metadata": {},
     "output_type": "execute_result"
    }
   ],
   "source": [
    "from sklearn.model_selection import cross_val_score\n",
    "\n",
    "# Cross validation score (Decision Tree)\n",
    "val_score = cross_val_score(GuassianNaiveBayes, crop_feature, crop_target, cv=5)\n",
    "val_score"
   ]
  },
  {
   "cell_type": "code",
   "execution_count": 33,
   "id": "e093350a",
   "metadata": {},
   "outputs": [],
   "source": [
    "# saving the model\n",
    "import pickle \n",
    "\n",
    "NB_model = open('./GuassianNaiveBayes.pkl', 'wb')\n",
    "pickle.dump(GuassianNaiveBayes, NB_model)\n",
    "NB_model.close()"
   ]
  },
  {
   "cell_type": "markdown",
   "id": "94acf334",
   "metadata": {},
   "source": [
    "## K-Nearest Neighbour "
   ]
  },
  {
   "cell_type": "code",
   "execution_count": 34,
   "id": "afc73eb2",
   "metadata": {},
   "outputs": [
    {
     "data": {
      "text/plain": [
       "<matplotlib.legend.Legend at 0x19804443c40>"
      ]
     },
     "execution_count": 34,
     "metadata": {},
     "output_type": "execute_result"
    },
    {
     "data": {
      "image/png": "[encoded data removed]",
      "text/plain": [
       "<Figure size 432x288 with 1 Axes>"
      ]
     },
     "metadata": {
      "needs_background": "light"
     },
     "output_type": "display_data"
    }
   ],
   "source": [
    "from sklearn.neighbors import KNeighborsClassifier \n",
    "\n",
    "# determining k by checking error \n",
    "err_1=[]\n",
    "err_2=[]\n",
    "\n",
    "for k in range(1,10):\n",
    "  KNN = KNeighborsClassifier(n_neighbors=k)\n",
    "  KNN.fit(x_train,y_train)\n",
    "  y_pred_1 = KNN.predict(x_train)\n",
    "  err_1.append(np.mean(y_train!=y_pred_1))\n",
    "  y_pred_2 = KNN.predict(x_test)\n",
    "  err_2.append(np.mean(y_test!=y_pred_2))\n",
    "    \n",
    "plt.plot(range(1,10),err_1,label='train')\n",
    "plt.plot(range(1,10),err_2,label='test')\n",
    "plt.xlabel('K - Values')\n",
    "plt.ylabel('Error')\n",
    "plt.legend()"
   ]
  },
  {
   "cell_type": "code",
   "execution_count": 35,
   "id": "ea35778c",
   "metadata": {},
   "outputs": [
    {
     "name": "stdout",
     "output_type": "stream",
     "text": [
      "KNN's Accuracy is:  0.9745454545454545\n",
      "              precision    recall  f1-score   support\n",
      "\n",
      "       apple       1.00      1.00      1.00        23\n",
      "      banana       1.00      1.00      1.00        29\n",
      "   blackgram       1.00      0.96      0.98        24\n",
      "    chickpea       1.00      1.00      1.00        32\n",
      "     coconut       1.00      1.00      1.00        21\n",
      "      coffee       1.00      1.00      1.00        30\n",
      "      cotton       1.00      1.00      1.00        23\n",
      "      grapes       1.00      1.00      1.00        27\n",
      "        jute       0.61      0.93      0.74        15\n",
      " kidneybeans       1.00      1.00      1.00        24\n",
      "      lentil       0.88      1.00      0.94        22\n",
      "       maize       1.00      1.00      1.00        18\n",
      "       mango       1.00      1.00      1.00        31\n",
      "   mothbeans       0.96      0.92      0.94        26\n",
      "    mungbean       1.00      1.00      1.00        28\n",
      "   muskmelon       1.00      1.00      1.00        27\n",
      "      orange       1.00      1.00      1.00        28\n",
      "      papaya       0.95      1.00      0.98        20\n",
      "  pigeonpeas       1.00      0.96      0.98        24\n",
      " pomegranate       1.00      1.00      1.00        26\n",
      "        rice       1.00      0.68      0.81        28\n",
      "  watermelon       1.00      1.00      1.00        24\n",
      "\n",
      "    accuracy                           0.97       550\n",
      "   macro avg       0.97      0.98      0.97       550\n",
      "weighted avg       0.98      0.97      0.97       550\n",
      "\n"
     ]
    }
   ],
   "source": [
    "from sklearn.preprocessing import MinMaxScaler\n",
    "\n",
    "# normalizing data using sklearn\n",
    "norm_data = MinMaxScaler().fit(x_train)\n",
    "x_train_norm = norm_data.transform(x_train)\n",
    "x_test_norm = norm_data.transform(x_test)\n",
    "\n",
    "# at k = 5 error difference is minimum\n",
    "KNearestNeighbour = KNeighborsClassifier(n_neighbors=5)\n",
    "KNearestNeighbour.fit(x_train_norm,y_train)\n",
    "pred = KNearestNeighbour.predict(x_test_norm)\n",
    "\n",
    "x = metrics.accuracy_score(y_test, pred)\n",
    "acc.append(x)                         \n",
    "model.append('KNN')                   \n",
    "print(\"KNN's Accuracy is: \", x)\n",
    "\n",
    "print(classification_report(y_test,pred))"
   ]
  },
  {
   "cell_type": "code",
   "execution_count": 36,
   "id": "2c09ebb3",
   "metadata": {},
   "outputs": [
    {
     "data": {
      "text/plain": [
       "array([0.97727273, 0.98181818, 0.97954545, 0.97954545, 0.97954545])"
      ]
     },
     "execution_count": 36,
     "metadata": {},
     "output_type": "execute_result"
    }
   ],
   "source": [
    "from sklearn.model_selection import cross_val_score\n",
    "\n",
    "# Cross validation score (Decision Tree)\n",
    "val_score = cross_val_score(KNearestNeighbour, crop_feature, crop_target, cv=5)\n",
    "val_score"
   ]
  },
  {
   "cell_type": "code",
   "execution_count": 37,
   "id": "4b41d470",
   "metadata": {},
   "outputs": [],
   "source": [
    "# saving the model\n",
    "import pickle \n",
    "\n",
    "KNN_model = open('./KNearestNeighbour.pkl', 'wb')\n",
    "pickle.dump(KNearestNeighbour, KNN_model)\n",
    "KNN_model.close()"
   ]
  },
  {
   "cell_type": "markdown",
   "id": "6cdec1a3",
   "metadata": {},
   "source": [
    "# Comparing Models Accuracy"
   ]
  },
  {
   "cell_type": "code",
   "execution_count": 38,
   "id": "83e0e375",
   "metadata": {},
   "outputs": [
    {
     "data": {
      "image/png": "[encoded data removed]",
      "text/plain": [
       "<Figure size 4500x1500 with 1 Axes>"
      ]
     },
     "metadata": {
      "needs_background": "light"
     },
     "output_type": "display_data"
    }
   ],
   "source": [
    "plt.figure(figsize=[15,5], dpi = 300)\n",
    "plt.title('Accuracy Comparison', size = 12)\n",
    "plt.xlabel('Algorithm', size = 12)\n",
    "plt.ylabel('Accuracy', size = 12)\n",
    "ax = sns.barplot(x = model, y = acc)\n",
    "ax.bar_label(ax.containers[0])\n",
    "plt.show()\n"
   ]
  },
  {
   "cell_type": "code",
   "execution_count": 39,
   "id": "8b023b97",
   "metadata": {},
   "outputs": [
    {
     "name": "stdout",
     "output_type": "stream",
     "text": [
      "Decision Tree --> 0.9272727272727272\n",
      "Logistic Regression --> 0.9472727272727273\n",
      "Random Forest Classifier --> 0.9872727272727273\n",
      "Support Vector Machine --> 0.9745454545454545\n",
      "Guassian Naive Bayes --> 0.9854545454545455\n",
      "KNN --> 0.9745454545454545\n"
     ]
    }
   ],
   "source": [
    "accuracy_models = dict(zip(model, acc))\n",
    "for k, v in accuracy_models.items():\n",
    "    print (k, '-->', v)"
   ]
  },
  {
   "cell_type": "markdown",
   "id": "bb6af04d",
   "metadata": {},
   "source": [
    "## Predicting Results "
   ]
  },
  {
   "cell_type": "code",
   "execution_count": 40,
   "id": "d296cb35",
   "metadata": {},
   "outputs": [
    {
     "name": "stdout",
     "output_type": "stream",
     "text": [
      "['chickpea']\n"
     ]
    }
   ],
   "source": [
    "data = np.array([[73, 65, 80, 89, 60.3, 8, 140.91]])\n",
    "prediction = RandomForest.predict(data)\n",
    "print(prediction)"
   ]
  },
  {
   "cell_type": "code",
   "execution_count": 41,
   "id": "03aa6fb9",
   "metadata": {},
   "outputs": [
    {
     "name": "stdout",
     "output_type": "stream",
     "text": [
      "['jute']\n"
     ]
    }
   ],
   "source": [
    "data = np.array([[83, 45, 60, 28, 70.3, 7.0, 150.9]])\n",
    "prediction = RandomForest.predict(data)\n",
    "print(prediction)"
   ]
  },
  {
   "cell_type": "markdown",
   "id": "bd81cbf0",
   "metadata": {},
   "source": [
    "## User Interface (GUI) "
   ]
  },
  {
   "cell_type": "code",
   "execution_count": 42,
   "id": "27122660",
   "metadata": {},
   "outputs": [],
   "source": [
    "# importing libraries\n",
    "\n",
    "from tkinter import *\n",
    "import tkinter as tk\n",
    "from PIL import Image, ImageTk\n",
    "from tkinter import messagebox\n",
    "import csv\n",
    "from csv import *\n",
    "import os"
   ]
  },
  {
   "cell_type": "code",
   "execution_count": 44,
   "id": "a1b111b5",
   "metadata": {},
   "outputs": [
    {
     "name": "stdout",
     "output_type": "stream",
     "text": [
      "coffee\n",
      "[[0.    0.    0.    0.    0.    0.875 0.    0.    0.    0.    0.    0.\n",
      "  0.125 0.    0.    0.    0.    0.    0.    0.    0.    0.   ]]\n",
      "[[ 5 12  0]]\n",
      "Coffee: 87.5%\n",
      "\n",
      "Mango: 12.5%\n",
      "\n",
      "Apple: 0.0%\n",
      "<class 'str'>\n",
      "coffee, mango, apple\n"
     ]
    },
    {
     "name": "stderr",
     "output_type": "stream",
     "text": [
      "Exception in Tkinter callback\n",
      "Traceback (most recent call last):\n",
      "  File \"C:\\Users\\Moin_PC\\anaconda3\\lib\\tkinter\\__init__.py\", line 1892, in __call__\n",
      "    return self.func(*args)\n",
      "  File \"C:\\Users\\Moin_PC\\AppData\\Local\\Temp\\ipykernel_10796\\528483421.py\", line 234, in predict\n",
      "    add_to_csv()\n",
      "  File \"C:\\Users\\Moin_PC\\AppData\\Local\\Temp\\ipykernel_10796\\528483421.py\", line 119, in add_to_csv\n",
      "    df.to_csv('./crop_data.csv', index=False)\n",
      "  File \"C:\\Users\\Moin_PC\\anaconda3\\lib\\site-packages\\pandas\\core\\generic.py\", line 3551, in to_csv\n",
      "    return DataFrameRenderer(formatter).to_csv(\n",
      "  File \"C:\\Users\\Moin_PC\\anaconda3\\lib\\site-packages\\pandas\\io\\formats\\format.py\", line 1180, in to_csv\n",
      "    csv_formatter.save()\n",
      "  File \"C:\\Users\\Moin_PC\\anaconda3\\lib\\site-packages\\pandas\\io\\formats\\csvs.py\", line 241, in save\n",
      "    with get_handle(\n",
      "  File \"C:\\Users\\Moin_PC\\anaconda3\\lib\\site-packages\\pandas\\io\\common.py\", line 789, in get_handle\n",
      "    handle = open(\n",
      "PermissionError: [Errno 13] Permission denied: './crop_data.csv'\n"
     ]
    }
   ],
   "source": [
    "# making user interface using GUI\n",
    "\n",
    "# adding background image\n",
    "def on_resize(event):\n",
    "    # resize the background image to the size of label\n",
    "    image = bg_img.resize((event.width, event.height), Image.ANTIALIAS)\n",
    "    # update the image of the label\n",
    "    bg_label.image = ImageTk.PhotoImage(image)\n",
    "    bg_label.config(image=bg_label.image)\n",
    "\n",
    "\n",
    "crop_window = tk.Tk()\n",
    "crop_window.geometry(\"1280x1024\")  # setting resolution\n",
    "\n",
    "\n",
    "    \n",
    "bg_img = Image.open('./images/bg.jpg') # load the background image\n",
    "bg_label = tk.Label(crop_window)\n",
    "bg_label.place(x=0, y=0, relwidth=1, relheight=1) # make bg_label to fit crop_window \n",
    "bg_label.bind('<Configure>', on_resize) # call on_resize whenever bg_label is resized\n",
    "\n",
    "\n",
    "\n",
    "\n",
    "N_level=tk.StringVar()\n",
    "P_level=tk.StringVar()\n",
    "K_level=tk.StringVar()\n",
    "avg_temp=tk.StringVar()\n",
    "avg_humid=tk.StringVar()\n",
    "PH_value=tk.StringVar()\n",
    "avg_rainfall=tk.StringVar()\n",
    "location=tk.StringVar()\n",
    "\n",
    "\n",
    "# creating window title\n",
    "crop_window.title('CS4020-Data Science Project')\n",
    "\n",
    "# check input is valid or not\n",
    "def validate_input(val):\n",
    "    try:\n",
    "        float(val) # only floats value are allowed\n",
    "    except:\n",
    "        return False\n",
    "    return True\n",
    "\n",
    "validation = crop_window.register(validate_input)\n",
    "\n",
    "\n",
    "# creating title for the window\n",
    "title0=tk.Label(crop_window,text='Crop Prediction and Analysis using Machine Learning',font='Helvetica 28 bold', justify='center', \n",
    "                bg = \"#f9fce8\", anchor=\"w\")\n",
    "title0.grid(sticky = W, row=0,columnspan=3,padx=10,pady=10)\n",
    "\n",
    "title1=tk.Label(crop_window,text='Data Science Project',font='Helvetica 16 bold', justify='center', bg = \"#f9fce8\", anchor=\"w\")\n",
    "title1.grid(sticky = W, row=1,columnspan=3,padx=350,pady=10)\n",
    "\n",
    "# creating rows with input field in the window\n",
    "\n",
    "row1=tk.Label(crop_window,text='Enter ratio of Nitrogen',font=22, justify=LEFT, width = 50, bg = \"#f9fce8\", anchor=\"w\")\n",
    "row1.grid(sticky = W, row=3,column=0,padx=10,pady=10)\n",
    "input1=tk.Entry(crop_window,validate=\"key\", validatecommand=(validation, '%P'), font=22,width=8,textvariable=N_level)\n",
    "input1.grid(row=3,column=2,padx=10,pady=10)\n",
    "\n",
    "row2=tk.Label(crop_window,text='Enter ratio of Phosphorous',font=22, justify=LEFT, width = 50, bg = \"#f9fce8\", anchor=\"w\")\n",
    "row2.grid(sticky = W, row=4,column=0,padx=10,pady=10)\n",
    "input2=tk.Entry(crop_window,validate=\"key\", validatecommand=(validation, '%P'),font=22,width=8,textvariable=P_level)\n",
    "input2.grid(row=4,column=2,padx=10,pady=10)\n",
    "\n",
    "row3=tk.Label(crop_window,text='Enter ratio of Potassium',font=22, justify=LEFT, width = 50, bg = \"#f9fce8\", anchor=\"w\")\n",
    "row3.grid(sticky = W, row=5,column=0,padx=10,pady=10)\n",
    "input3=tk.Entry(crop_window,validate=\"key\", validatecommand=(validation, '%P'),font=22,width=8,textvariable=K_level)\n",
    "input3.grid(row=5,column=2,padx=10,pady=10)\n",
    "\n",
    "row4=tk.Label(crop_window,text='Enter average Temperature (C)',font=22, justify=LEFT, width = 50, bg = \"#f9fce8\", anchor=\"w\")\n",
    "row4.grid(sticky = W, row=6,column=0,padx=10,pady=10)\n",
    "input4=tk.Entry(crop_window,validate=\"key\", validatecommand=(validation, '%P'),font=22,width=8,textvariable=avg_temp)\n",
    "input4.grid(row=6,column=2,padx=10,pady=10)\n",
    "\n",
    "row5=tk.Label(crop_window,text='Enter average percentage of Humidity (%)',font=22, justify=LEFT, width = 50, bg = \"#f9fce8\", anchor=\"w\")\n",
    "row5.grid(sticky = W, row=7,column=0,padx=10,pady=10)\n",
    "input5=tk.Entry(crop_window,validate=\"key\", validatecommand=(validation, '%P'),font=22,width=8,textvariable=avg_humid)\n",
    "input5.grid(row=7,column=2,padx=10,pady=10)\n",
    "\n",
    "row6=tk.Label(crop_window,text='Enter PH value',font=22, justify=LEFT, width = 50, bg = \"#f9fce8\", anchor=\"w\")\n",
    "row6.grid(sticky = W, row=8,column=0,padx=10,pady=10)\n",
    "input6=tk.Entry(crop_window,validate=\"key\", validatecommand=(validation, '%P'),font=22,width=8,textvariable=PH_value)\n",
    "input6.grid(row=8,column=2,padx=10,pady=10)\n",
    "\n",
    "row7=tk.Label(crop_window,text='Enter average amount of Rainfall (mm)',font=22, justify=LEFT, width = 50, bg = \"#f9fce8\", anchor=\"w\")\n",
    "row7.grid(sticky = W, row=9,column=0,padx=10,pady=10)\n",
    "input7=tk.Entry(crop_window,validate=\"key\", validatecommand=(validation, '%P'),font=22,width=8,textvariable=avg_rainfall)\n",
    "input7.grid(row=9,column=2,padx=10,pady=10)\n",
    "\n",
    "row8=tk.Label(crop_window,text='Enter your location (optional)',font=22, justify=LEFT, width = 50, bg = \"#f9fce8\", anchor=\"w\")\n",
    "row8.grid(sticky = W, row=10,column=0,padx=10,pady=10)\n",
    "input8=tk.Entry(crop_window, font=22,width=8,textvariable=str(location))\n",
    "input8.grid(row=10,column=2,padx=10,pady=10)\n",
    "\n",
    "\n",
    "\n",
    "\n",
    "# save input to csv file function   \n",
    "save_data=[]\n",
    "def add_to_csv():\n",
    "    path = os.path.isfile('./crop_data.csv')\n",
    "    # if file already exists\n",
    "    if path == True:\n",
    "        df = pd.read_csv('crop_data.csv')\n",
    "        data = pd.Series([N_level.get(), P_level.get(), K_level.get(), avg_temp.get(), avg_humid.get(), \n",
    "                          PH_value.get(), avg_rainfall.get(), str_pred, location.get()], \n",
    "        index=['N', 'P', 'K', 'temperature', 'humidity', 'ph', 'rainfall', 'label','location'])\n",
    "        df = df.append(data, ignore_index=True)\n",
    "    # if file does not exists    \n",
    "    else:\n",
    "        data = [N_level.get(), P_level.get(), K_level.get(), avg_temp.get(), avg_humid.get(), \n",
    "                PH_value.get(), avg_rainfall.get(), str_pred, location.get()]\n",
    "        columns = ['N', 'P', 'K', 'temperature', 'humidity', 'ph', 'rainfall', 'label','location']\n",
    "        df = pd.DataFrame(data, columns).T\n",
    "    df.to_csv('./crop_data.csv', index=False)\n",
    "    # printing message after each successful save    \n",
    "    messagebox.showinfo(\"Information\",\"Saved succesfully\")\n",
    "    \n",
    "\n",
    "    \n",
    "# validating image file    \n",
    "def print_image(prediction):\n",
    "    path = \"./images/\" + prediction + \".jpg\"\n",
    "    try:\n",
    "        img = ImageTk.PhotoImage(Image.open(path).resize((400,300), Image.ANTIALIAS))\n",
    "        \n",
    "    except:\n",
    "        img = ImageTk.PhotoImage(Image.open(\"./images/404.jpg\").resize((400,300), Image.ANTIALIAS))\n",
    "        print(\"file not found\") \n",
    "    return img\n",
    "    \n",
    "    \n",
    "    \n",
    "# clear button function\n",
    "def clear_data():\n",
    "    N_level.set('')\n",
    "    P_level.set('')\n",
    "    K_level.set('')\n",
    "    avg_temp.set('')\n",
    "    avg_humid.set('')\n",
    "    PH_value.set('')\n",
    "    avg_rainfall.set('')\n",
    "    location.set('')\n",
    "    output.grid_remove()\n",
    "    imglabel.grid_remove()\n",
    "    title.grid_remove()\n",
    "    \n",
    "\n",
    "\n",
    "# quit button function\n",
    "def on_closing():\n",
    "    crop_window.destroy()\n",
    "\n",
    "\n",
    "# submit button function\n",
    "# predict the result \n",
    "def predict():\n",
    "    # validating input field for null values\n",
    "    if (not N_level.get() or not P_level.get() or not K_level.get() or not avg_temp.get() or not \n",
    "        avg_humid.get() or not PH_value.get() or not avg_rainfall.get()):\n",
    "        print ('blank')\n",
    "        messagebox.showinfo(\"Message\",\"Please fill all information!\")\n",
    "        return\n",
    "    \n",
    "    data = np.array([[N_level.get(), P_level.get(), K_level.get(), avg_temp.get(), avg_humid.get(), \n",
    "                      PH_value.get(), avg_rainfall.get()]])\n",
    "    prediction = RandomForest.predict(data)  # predicting best result\n",
    "    prediction = str(prediction).replace(\"['\", '').replace(\"']\",'')\n",
    "    print(prediction)\n",
    "    \n",
    "    probs = RandomForest.predict_proba(data)  # getting the probabilities for each indices\n",
    "    print(probs)\n",
    "\n",
    "    sorted_indices = np.argsort(-probs, axis=1)  # sort in descending order\n",
    "    highest_indices = sorted_indices[:, :3]  # getting highest indices\n",
    "\n",
    "    print(highest_indices)\n",
    "\n",
    "\n",
    "    # Get the top 3 probabilities and their corresponding class labels for each instance\n",
    "    top3_probs = probs[np.arange(probs.shape[0])[:, None], highest_indices]\n",
    "    top3_labels = RandomForest.classes_[highest_indices]\n",
    "    \n",
    "    \n",
    "    out_label=[]\n",
    "    out_probs=[]\n",
    "    # Print the results upto best three accuracy\n",
    "    for i in range(top3_probs.shape[0]):\n",
    "        for j in range(3):\n",
    "            out_label.append(top3_labels[i,j])\n",
    "            out_probs.append(top3_probs[i,j]*100)\n",
    "\n",
    "    \n",
    "    print_percentage = str(str(out_label[0].capitalize())+\": \"+str(out_probs[0])+\"%\\n\\n\"+\n",
    "                           str(out_label[1].capitalize())+\": \"+str(out_probs[1])+\"%\\n\\n\"+\n",
    "                           str(out_label[2].capitalize())+\": \"+str(out_probs[2])+\"%\")\n",
    "                           \n",
    "    \n",
    "    print(print_percentage)\n",
    "    \n",
    "    # declaring some global variables\n",
    "    global str_pred, title, imglabel, output\n",
    "\n",
    "    # printing the prediction in the window\n",
    "    \n",
    "    str_pred = str(top3_labels).replace(\"[['\", '').replace(\"']]\",'').replace(\"' '\", \", \")\n",
    "    print(type(str_pred))\n",
    "    print(str_pred)\n",
    "    output = tk.Label(crop_window, text= 'The best matches for this land are: \\n\\n' + \n",
    "                      print_percentage, font=22, justify=LEFT, bg = \"#f9fce8\", anchor=\"w\")\n",
    "    output.grid(sticky = W, row=13,column=0,padx=10,pady=10)\n",
    "    \n",
    "    \n",
    "    # printing images in the window for best match\n",
    "    \n",
    "    img = print_image(prediction)\n",
    "    \n",
    "    \n",
    "    \n",
    "        \n",
    "    #Displaying it\n",
    "    imglabel = Label(crop_window, image=img)\n",
    "    imglabel.grid(row=13, column=2, padx=10, pady=10)    \n",
    "        \n",
    "    # putting a title for the image    \n",
    "    title_text = str('Top Choice is: ' + str(prediction))  \n",
    "    title = tk.Label(crop_window,text=title_text,font=22, justify=CENTER, anchor=\"w\")\n",
    "    title.grid(sticky = W, row=14,column=2,padx=150,pady=10)\n",
    "    \n",
    "    add_to_csv()\n",
    "    crop_window.mainloop()\n",
    "    \n",
    "    \n",
    "\n",
    "\n",
    "submit=tk.Button(crop_window,text='Submit',font=22,width = 10, bg = 'LIGHT GREEN', command=predict)\n",
    "submit.grid(row=11,column=0,padx=10,pady=10)\n",
    "\n",
    "clear=tk.Button(crop_window,text='Clear',font=22,width = 10, bg = 'SKY BLUE', command=clear_data)\n",
    "clear.grid(row=11,column=1,padx=10,pady=10)\n",
    "\n",
    "quit=tk.Button(crop_window,text='Quit',font=22,width = 10, bg = '#f76060', command=on_closing)\n",
    "quit.grid(row=11,column=2,padx=10,pady=10)\n",
    "\n",
    "crop_window.protocol(\"WM_DELETE_WINDOW\", on_closing)\n",
    "crop_window.mainloop()\n",
    "\n",
    "    \n",
    "\n",
    "\n"
   ]
  },
  {
   "cell_type": "code",
   "execution_count": null,
   "id": "412e303b",
   "metadata": {},
   "outputs": [],
   "source": []
  }
 ],
 "metadata": {
  "kernelspec": {
   "display_name": "Python 3 (ipykernel)",
   "language": "python",
   "name": "python3"
  },
  "language_info": {
   "codemirror_mode": {
    "name": "ipython",
    "version": 3
   },
   "file_extension": ".py",
   "mimetype": "text/x-python",
   "name": "python",
   "nbconvert_exporter": "python",
   "pygments_lexer": "ipython3",
   "version": "3.9.12"
  }
 },
 "nbformat": 4,
 "nbformat_minor": 5
}
